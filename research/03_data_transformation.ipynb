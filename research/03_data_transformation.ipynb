{
 "cells": [
  {
   "cell_type": "code",
   "execution_count": 8,
   "id": "911ff131",
   "metadata": {},
   "outputs": [],
   "source": [
    "import os"
   ]
  },
  {
   "cell_type": "code",
   "execution_count": 9,
   "id": "198fae09",
   "metadata": {},
   "outputs": [
    {
     "data": {
      "text/plain": [
       "'c:\\\\Users\\\\ahmed\\\\OneDrive\\\\Documents\\\\Documents\\\\coding\\\\data science\\\\DataScience\\\\MLOPS-Project\\\\research'"
      ]
     },
     "execution_count": 9,
     "metadata": {},
     "output_type": "execute_result"
    }
   ],
   "source": [
    "%pwd"
   ]
  },
  {
   "cell_type": "code",
   "execution_count": 10,
   "id": "275f4fc2",
   "metadata": {},
   "outputs": [],
   "source": [
    "os.chdir(\"../\")"
   ]
  },
  {
   "cell_type": "code",
   "execution_count": 11,
   "id": "5d87be2c",
   "metadata": {},
   "outputs": [
    {
     "data": {
      "text/plain": [
       "'c:\\\\Users\\\\ahmed\\\\OneDrive\\\\Documents\\\\Documents\\\\coding\\\\data science\\\\DataScience\\\\MLOPS-Project'"
      ]
     },
     "execution_count": 11,
     "metadata": {},
     "output_type": "execute_result"
    }
   ],
   "source": [
    "%pwd"
   ]
  },
  {
   "cell_type": "markdown",
   "id": "c951640a",
   "metadata": {},
   "source": [
    "## entity"
   ]
  },
  {
   "cell_type": "code",
   "execution_count": 12,
   "id": "f1871df3",
   "metadata": {},
   "outputs": [],
   "source": [
    "from dataclasses import dataclass\n",
    "from pathlib import Path \n",
    "\n",
    "@dataclass(frozen= True) \n",
    "class DataTransformationConfig: # defining the schema for configuration manager\n",
    "    root_dir: Path\n",
    "    data_path: Path "
   ]
  },
  {
   "cell_type": "markdown",
   "id": "859b9718",
   "metadata": {},
   "source": [
    "## Update config"
   ]
  },
  {
   "cell_type": "code",
   "execution_count": 13,
   "id": "0d1c61b3",
   "metadata": {},
   "outputs": [],
   "source": [
    "from mlproject.constants import * \n",
    "from mlproject.utils.common import read_yaml, create_directories\n",
    "\n",
    "class ConfigurationManager():\n",
    "    def __init__(self,\n",
    "                 config_filepath = CONFIG_FILE_PATH,\n",
    "                 params_filepath = PARAMS_FILE_PATH,\n",
    "                 schema_filepath = SCHEMA_FILE_PATH):\n",
    "        \n",
    "        self.config = read_yaml(config_filepath)\n",
    "        self.params = read_yaml(params_filepath)\n",
    "        self.schema = read_yaml(schema_filepath)\n",
    "\n",
    "        create_directories([self.config.artifacts_root])\n",
    "\n",
    "    def get_data_transformation_config(self) -> DataTransformationConfig:\n",
    "        config = self.config.data_transformation\n",
    "\n",
    "        create_directories([config.root_dir])\n",
    "\n",
    "        data_transformation_config = DataTransformationConfig(\n",
    "            root_dir = config.root_dir,\n",
    "            data_path = config.data_path\n",
    "        )\n",
    "\n",
    "        return data_transformation_config\n"
   ]
  },
  {
   "cell_type": "code",
   "execution_count": 7,
   "id": "a133fd7a",
   "metadata": {},
   "outputs": [],
   "source": [
    "import os \n",
    "from mlproject import logger \n",
    "from sklearn.model_selection import train_test_split\n",
    "import pandas as pd \n",
    "from sklearn.preprocessing import LabelEncoder\n",
    "\n"
   ]
  },
  {
   "cell_type": "code",
   "execution_count": 14,
   "id": "1fd0bf0d",
   "metadata": {},
   "outputs": [],
   "source": [
    "class DataTransformation:\n",
    "    def __init__(self, config: DataTransformationConfig):\n",
    "        self.config = config\n",
    "\n",
    "#     def transforming(self):\n",
    "#         df = pd.read_csv(self.config.data_path)\n",
    "#         df = df.drop(columns=['customerID'])\n",
    "#         df['TotalCharges'] = pd.to_numeric(df['TotalCharges'], errors='coerce')\n",
    "\n",
    "# # label encoding\n",
    "#         le = LabelEncoder()\n",
    "#         columns_to_encode = ['gender', 'Partner', 'Dependents', 'PhoneService', 'PaperlessBilling', 'Churn']\n",
    "\n",
    "#         for col in columns_to_encode:\n",
    "#             df[col] = le.fit_transform(df[col])\n",
    "\n",
    "# # one hot encoding\n",
    "\n",
    "#         columns_to_onehot = ['MultipleLines', 'InternetService', 'OnlineSecurity', 'OnlineBackup', 'DeviceProtection', 'TechSupport', 'StreamingTV', 'StreamingMovies', 'Contract', 'PaymentMethod']\n",
    "\n",
    "#         for col in columns_to_onehot:\n",
    " \n",
    "#             df = pd.get_dummies(df, columns=[col], prefix=col, drop_first=False)\n",
    "\n",
    "# # ensuring all data is numerical \n",
    "#         for col in df.columns:\n",
    "#             if df[col].dtype == bool:\n",
    "#                 df[col] = df[col].astype(int)\n",
    "\n",
    "#         df.to_csv(os.path.join(self.config.root_dir, 'transformed.csv'), index= False)\n",
    "        \n",
    "#################################################################################################################################################\n",
    "\n",
    "    def preprocessing(self):\n",
    "\n",
    "        df = pd.read_csv(self.config.data_path)\n",
    "        df = df.drop(columns=['customerID'])\n",
    "        df['TotalCharges'] = pd.to_numeric(df['TotalCharges'], errors='coerce')\n",
    "        df.dropna(subset=['TotalCharges'], inplace=True)\n",
    "\n",
    "# label encoding\n",
    "        le = LabelEncoder()\n",
    "        columns_to_encode = ['gender', 'Partner', 'Dependents', 'PhoneService', 'PaperlessBilling', 'Churn']\n",
    "\n",
    "        for col in columns_to_encode:\n",
    "            df[col] = le.fit_transform(df[col])\n",
    "\n",
    "# one hot encoding\n",
    "\n",
    "        columns_to_onehot = ['MultipleLines', 'InternetService', 'OnlineSecurity', 'OnlineBackup', 'DeviceProtection', 'TechSupport', 'StreamingTV', 'StreamingMovies', 'Contract', 'PaymentMethod']\n",
    "\n",
    "        for col in columns_to_onehot:\n",
    " \n",
    "            df = pd.get_dummies(df, columns=[col], prefix=col, drop_first=False)\n",
    "\n",
    "# ensuring all data is numerical \n",
    "        for col in df.columns:\n",
    "            if df[col].dtype == bool:\n",
    "                df[col] = df[col].astype(int)\n",
    "\n",
    "        train, test = train_test_split(df)\n",
    "\n",
    "        train.to_csv(os.path.join(self.config.root_dir, 'train.csv'), index = False)\n",
    "        test.to_csv(os.path.join(self.config.root_dir, 'test.csv'), index = False)\n",
    "\n",
    "        logger.info('Splitted the data into traininf and test sets')\n",
    "        logger.info('train.shape')\n",
    "        logger.info('test.shape')\n",
    "\n",
    "        print(train.shape)\n",
    "        print(test.shape)"
   ]
  },
  {
   "cell_type": "markdown",
   "id": "90558623",
   "metadata": {},
   "source": [
    "## pipeline"
   ]
  },
  {
   "cell_type": "code",
   "execution_count": 9,
   "id": "df49e604",
   "metadata": {},
   "outputs": [
    {
     "name": "stdout",
     "output_type": "stream",
     "text": [
      "[2025-09-09 07:54:06,988: INFO: common: yaml file: config\\config.yaml, loaded successfully]\n",
      "[2025-09-09 07:54:06,992: INFO: common: yaml file: params.yaml, loaded successfully]\n",
      "[2025-09-09 07:54:06,995: INFO: common: yaml file: schema.yaml, loaded successfully]\n",
      "[2025-09-09 07:54:06,995: INFO: common: created directory at: artifacts]\n",
      "[2025-09-09 07:54:06,997: INFO: common: created directory at: artifacts/data_transformation]\n",
      "[2025-09-09 07:54:07,246: INFO: 3088094016: Splitted the data into traininf and test sets]\n",
      "[2025-09-09 07:54:07,247: INFO: 3088094016: train.shape]\n",
      "[2025-09-09 07:54:07,247: INFO: 3088094016: test.shape]\n",
      "(5282, 41)\n",
      "(1761, 41)\n"
     ]
    }
   ],
   "source": [
    "try:\n",
    "    config = ConfigurationManager()\n",
    "    data_transformation_config = config.get_data_transformation_config()\n",
    "    data_transformation = DataTransformation(config=data_transformation_config)\n",
    "    data_transformation.preprocessing()\n",
    "except Exception as e:\n",
    "    raise e "
   ]
  },
  {
   "cell_type": "code",
   "execution_count": null,
   "id": "18fd83ce",
   "metadata": {},
   "outputs": [],
   "source": []
  }
 ],
 "metadata": {
  "kernelspec": {
   "display_name": "venv",
   "language": "python",
   "name": "python3"
  },
  "language_info": {
   "codemirror_mode": {
    "name": "ipython",
    "version": 3
   },
   "file_extension": ".py",
   "mimetype": "text/x-python",
   "name": "python",
   "nbconvert_exporter": "python",
   "pygments_lexer": "ipython3",
   "version": "3.12.7"
  }
 },
 "nbformat": 4,
 "nbformat_minor": 5
}

{
 "cells": [
  {
   "cell_type": "code",
   "execution_count": 1,
   "id": "2bd6019c",
   "metadata": {},
   "outputs": [],
   "source": [
    "import os "
   ]
  },
  {
   "cell_type": "code",
   "execution_count": 2,
   "id": "bd558a46",
   "metadata": {},
   "outputs": [
    {
     "data": {
      "text/plain": [
       "'c:\\\\Users\\\\ahmed\\\\OneDrive\\\\Documents\\\\Documents\\\\coding\\\\data science\\\\DataScience\\\\MLOPS-Project\\\\research'"
      ]
     },
     "execution_count": 2,
     "metadata": {},
     "output_type": "execute_result"
    }
   ],
   "source": [
    "%pwd "
   ]
  },
  {
   "cell_type": "markdown",
   "id": "e6022360",
   "metadata": {},
   "source": [
    "I want to move to my project folder "
   ]
  },
  {
   "cell_type": "code",
   "execution_count": 3,
   "id": "69864f37",
   "metadata": {},
   "outputs": [],
   "source": [
    "os.chdir(\"../\")"
   ]
  },
  {
   "cell_type": "code",
   "execution_count": 4,
   "id": "d6d8459e",
   "metadata": {},
   "outputs": [
    {
     "data": {
      "text/plain": [
       "'c:\\\\Users\\\\ahmed\\\\OneDrive\\\\Documents\\\\Documents\\\\coding\\\\data science\\\\DataScience\\\\MLOPS-Project'"
      ]
     },
     "execution_count": 4,
     "metadata": {},
     "output_type": "execute_result"
    }
   ],
   "source": [
    "%pwd"
   ]
  },
  {
   "cell_type": "markdown",
   "id": "a2113c5d",
   "metadata": {},
   "source": [
    "## config entity \n",
    "\n",
    "this file goes to the src\\mlproject\\entity\\config_entity.py"
   ]
  },
  {
   "cell_type": "code",
   "execution_count": 5,
   "id": "41e69bd0",
   "metadata": {},
   "outputs": [],
   "source": [
    "# this is an entity and we use down on other functions to define the return type\n",
    "\n",
    "from dataclasses import dataclass\n",
    "from pathlib import Path\n",
    "\n",
    "@dataclass(frozen=True)\n",
    "class DataIngestionConfig:\n",
    "    root_dir: Path\n",
    "    source_URL: str\n",
    "    local_data_file: Path\n",
    "    unzip_dir: Path \n",
    "\n"
   ]
  },
  {
   "cell_type": "markdown",
   "id": "32ef3c47",
   "metadata": {},
   "source": [
    "## configurations file\n",
    "\n",
    "this goes  to the src\\mlproject\\config\\configurations.py"
   ]
  },
  {
   "cell_type": "code",
   "execution_count": 6,
   "id": "ce9e9b49",
   "metadata": {},
   "outputs": [],
   "source": [
    "from mlproject.constants import * \n",
    "from mlproject.utils.common import read_yaml, create_directories"
   ]
  },
  {
   "cell_type": "code",
   "execution_count": 7,
   "id": "09c2636e",
   "metadata": {},
   "outputs": [],
   "source": [
    "# class and functions created to make the source files accessible \n",
    "\n",
    "class ConfigurationManager():\n",
    "    def __init__(self,\n",
    "                 config_filepath = CONFIG_FILE_PATH,\n",
    "                 params_filepath = PARAMS_FILE_PATH,\n",
    "                 schema_filepath = SCHEMA_FILE_PATH):\n",
    "        \n",
    "        self.config = read_yaml(config_filepath)\n",
    "        self.params = read_yaml(params_filepath)\n",
    "        self.schema = read_yaml(schema_filepath)\n",
    "\n",
    "        create_directories([self.config.artifacts_root])\n",
    "\n",
    "    def get_data_ingestion_config(self) -> DataIngestionConfig: # creating a function and the return type should be the DataIngestionConfig we created\n",
    "        config = self.config.data_ingestion \n",
    "\n",
    "        create_directories([config.root_dir])\n",
    "\n",
    "        data_ingestion_config = DataIngestionConfig(\n",
    "            root_dir= config.root_dir,\n",
    "            source_URL= config.source_URL,\n",
    "            local_data_file= config.local_data_file,\n",
    "            unzip_dir = config.unzip_dir \n",
    "        )\n",
    "\n",
    "        return data_ingestion_config"
   ]
  },
  {
   "cell_type": "markdown",
   "id": "8583924d",
   "metadata": {},
   "source": [
    "## data ingestion\n",
    "\n",
    "this goes to the src\\mlproject\\components\\data_ingestion.py"
   ]
  },
  {
   "cell_type": "code",
   "execution_count": 15,
   "id": "c4bfd4b3",
   "metadata": {},
   "outputs": [],
   "source": [
    "import os \n",
    "import urllib.request as request  # to download data from url\n",
    "import zipfile # to unzip the data\n",
    "from mlproject import logger  # if u want to do some logging\n",
    "from mlproject.utils.common import get_size  # to check size\n",
    "\n",
    "class DataIngestion:\n",
    "    def __init__(self, config: DataIngestionConfig):\n",
    "        self.config = config \n",
    "\n",
    "# this will create a directory called data ingestion and then it will download the data from given url and the save the log\n",
    "    def download_file(self): \n",
    "        if not os.path.exists(self.config.local_data_file):\n",
    "            filename, headers = request.urlretrieve(\n",
    "                url = self.config.source_URL,\n",
    "                filename = self.config.local_data_file\n",
    "            )\n",
    "            logger.info(f\"{filename} download! with following info: \\n{headers}\")\n",
    "        else:\n",
    "            logger.info(f'File already exists of size: {get_size(Path(self.config.local_data_file))}')\n",
    " \n",
    "    def extract_zip_file(self): # this function will unzip the file and save it in the certain folder\n",
    "        unzip_path = self.config.unzip_dir\n",
    "        os.makedirs(unzip_path, exist_ok= True)\n",
    "        with zipfile.ZipFile(self.config.local_data_file, 'r') as zip_ref:\n",
    "            zip_ref.extractall(unzip_path)  "
   ]
  },
  {
   "cell_type": "markdown",
   "id": "b6ecdbfb",
   "metadata": {},
   "source": [
    "## the pipeline\n",
    "\n",
    "goes to src\\mlproject\\pipeline\\stage1dataingestion"
   ]
  },
  {
   "cell_type": "code",
   "execution_count": 16,
   "id": "5af45f3b",
   "metadata": {},
   "outputs": [
    {
     "name": "stdout",
     "output_type": "stream",
     "text": [
      "[2025-09-07 18:34:23,993: INFO: common: yaml file: config\\config.yaml, loaded successfully]\n",
      "[2025-09-07 18:34:23,995: INFO: common: yaml file: params.yaml, loaded successfully]\n",
      "[2025-09-07 18:34:23,998: INFO: common: yaml file: schema.yaml, loaded successfully]\n",
      "[2025-09-07 18:34:24,001: INFO: common: created directory at: artifacts]\n",
      "[2025-09-07 18:34:24,004: INFO: common: created directory at: artifacts/data_ingestion]\n",
      "[2025-09-07 18:34:24,399: INFO: 578962164: artifacts/data_ingestion/data.zip download! with following info: \n",
      "Connection: close\n",
      "Content-Length: 175758\n",
      "Cache-Control: max-age=300\n",
      "Content-Security-Policy: default-src 'none'; style-src 'unsafe-inline'; sandbox\n",
      "Content-Type: application/zip\n",
      "ETag: \"23237eaa68092cffd4feb41725aae8233503a84e547898e8bfc1b1589e230694\"\n",
      "Strict-Transport-Security: max-age=31536000\n",
      "X-Content-Type-Options: nosniff\n",
      "X-Frame-Options: deny\n",
      "X-XSS-Protection: 1; mode=block\n",
      "X-GitHub-Request-Id: 41C0:4CB01:99EFEB:D339B3:68BD97A0\n",
      "Accept-Ranges: bytes\n",
      "Date: Sun, 07 Sep 2025 14:34:25 GMT\n",
      "Via: 1.1 varnish\n",
      "X-Served-By: cache-fjr990031-FJR\n",
      "X-Cache: HIT\n",
      "X-Cache-Hits: 0\n",
      "X-Timer: S1757255666.720718,VS0,VE1\n",
      "Vary: Authorization,Accept-Encoding\n",
      "Access-Control-Allow-Origin: *\n",
      "Cross-Origin-Resource-Policy: cross-origin\n",
      "X-Fastly-Request-ID: 1718f6b5a70d148d48a64f91e1325715cddf8496\n",
      "Expires: Sun, 07 Sep 2025 14:39:25 GMT\n",
      "Source-Age: 68\n",
      "\n",
      "]\n"
     ]
    }
   ],
   "source": [
    "try:\n",
    "    config = ConfigurationManager() # initializing the configuration manager\n",
    "    data_ingestion_config = config.get_data_ingestion_config()  # from configuration manager i am calling the get_data_ingestion config\n",
    "    data_ingestion = DataIngestion(config=data_ingestion_config) # return the top to the DataIngestion class\n",
    "    data_ingestion.download_file() # then calling the download function to download the file\n",
    "    data_ingestion.extract_zip_file() # then unzipping the file\n",
    "except Exception as e:\n",
    "    raise e"
   ]
  },
  {
   "cell_type": "code",
   "execution_count": null,
   "id": "01196891",
   "metadata": {},
   "outputs": [],
   "source": []
  }
 ],
 "metadata": {
  "kernelspec": {
   "display_name": "venv",
   "language": "python",
   "name": "python3"
  },
  "language_info": {
   "codemirror_mode": {
    "name": "ipython",
    "version": 3
   },
   "file_extension": ".py",
   "mimetype": "text/x-python",
   "name": "python",
   "nbconvert_exporter": "python",
   "pygments_lexer": "ipython3",
   "version": "3.12.7"
  }
 },
 "nbformat": 4,
 "nbformat_minor": 5
}

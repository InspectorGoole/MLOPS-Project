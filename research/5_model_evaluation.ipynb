{
 "cells": [
  {
   "cell_type": "code",
   "execution_count": 1,
   "id": "52860fde",
   "metadata": {},
   "outputs": [],
   "source": [
    "import os"
   ]
  },
  {
   "cell_type": "code",
   "execution_count": 2,
   "id": "095b59d9",
   "metadata": {},
   "outputs": [
    {
     "data": {
      "text/plain": [
       "'c:\\\\Users\\\\ahmed\\\\OneDrive\\\\Documents\\\\Documents\\\\coding\\\\data science\\\\DataScience\\\\MLOPS-Project\\\\research'"
      ]
     },
     "execution_count": 2,
     "metadata": {},
     "output_type": "execute_result"
    }
   ],
   "source": [
    "%pwd "
   ]
  },
  {
   "cell_type": "code",
   "execution_count": 3,
   "id": "7f972d6a",
   "metadata": {},
   "outputs": [],
   "source": [
    "os.chdir(\"../\")"
   ]
  },
  {
   "cell_type": "code",
   "execution_count": 4,
   "id": "56676fd3",
   "metadata": {},
   "outputs": [
    {
     "data": {
      "text/plain": [
       "'c:\\\\Users\\\\ahmed\\\\OneDrive\\\\Documents\\\\Documents\\\\coding\\\\data science\\\\DataScience\\\\MLOPS-Project'"
      ]
     },
     "execution_count": 4,
     "metadata": {},
     "output_type": "execute_result"
    }
   ],
   "source": [
    "%pwd "
   ]
  },
  {
   "cell_type": "markdown",
   "id": "22eb5286",
   "metadata": {},
   "source": [
    "## steps to connect to mlflow with dagshub\n",
    "\n",
    "* Generate an Access Token in DagsHub\n",
    "\n",
    "* Go to your DagsHub profile → Settings → Access Tokens.\n",
    "\n",
    "* Create a Personal Access Token.\n",
    "\n",
    "* Copy it somewhere safe (you’ll need it only once).\n",
    "\n",
    "########################################\n",
    "\n",
    "* Type in power shell:\n",
    "\n",
    "* setx MLFLOW_TRACKING_URI \"https://dagshub.com/username/repo.mlflow\"\n",
    "* setx MLFLOW_TRACKING_USERNAME \"<your-dagshub-username>\"\n",
    "* setx MLFLOW_TRACKING_PASSWORD \"<your-access-token>\"\n",
    "\n",
    "* restart your terminal after executing these\n",
    "\n",
    "###############################################\n",
    "\n",
    "\n",
    "* import mlflow\n",
    "\n",
    "--> MLflow will automatically use the environment variables\n",
    "* mlflow.set_tracking_uri(\"https://dagshub.com/username/repo.mlflow\")"
   ]
  },
  {
   "cell_type": "code",
   "execution_count": 5,
   "id": "bad4c86b",
   "metadata": {},
   "outputs": [],
   "source": [
    "import mlflow\n",
    "\n",
    "mlflow.set_tracking_uri(\"https://dagshub.com/am6499057/MLOPS-Project.mlflow\")\n",
    "# mlflow.set_experiment(\"my-experiment\")\n"
   ]
  },
  {
   "cell_type": "markdown",
   "id": "48f3005a",
   "metadata": {},
   "source": [
    "## entity"
   ]
  },
  {
   "cell_type": "code",
   "execution_count": 6,
   "id": "f225908f",
   "metadata": {},
   "outputs": [],
   "source": [
    "from dataclasses import dataclass \n",
    "from pathlib import Path \n",
    "\n",
    "@dataclass(frozen= True)\n",
    "class ModelEvaluationConfig:\n",
    "    root_dir: Path\n",
    "    test_data_path: Path\n",
    "    model_path: Path\n",
    "    all_params: dict \n",
    "    metric_file_name: Path\n",
    "    target_column: str \n",
    "    mlflow_uri: str"
   ]
  },
  {
   "cell_type": "markdown",
   "id": "599886ee",
   "metadata": {},
   "source": [
    "## config manager"
   ]
  },
  {
   "cell_type": "code",
   "execution_count": 7,
   "id": "e558a7dd",
   "metadata": {},
   "outputs": [],
   "source": [
    "from mlproject.constants import * \n",
    "from mlproject.utils.common import read_yaml, create_directories\n",
    "\n",
    "class ConfigurationManager():\n",
    "    def __init__(self,\n",
    "                 config_filepath = CONFIG_FILE_PATH,\n",
    "                 params_filepath = PARAMS_FILE_PATH,\n",
    "                 schema_filepath = SCHEMA_FILE_PATH):\n",
    "        \n",
    "        self.config = read_yaml(config_filepath)\n",
    "        self.params = read_yaml(params_filepath)\n",
    "        self.schema = read_yaml(schema_filepath)\n",
    "\n",
    "        create_directories([self.config.artifacts_root])\n",
    "\n",
    "\n",
    "    def get_model_evaluation_config(self) -> ModelEvaluationConfig:\n",
    "        config = self.config.model_evaluation\n",
    "        params = self.params.LogisticRegression\n",
    "        schema = self.schema.TARGET_COLUMN \n",
    "\n",
    "        create_directories([config.root_dir])\n",
    "\n",
    "        model_evaluation_config = ModelEvaluationConfig(\n",
    "            root_dir = config.root_dir,\n",
    "            test_data_path = config.test_data_path,\n",
    "            model_path = config.model_path,\n",
    "            all_params = params,\n",
    "            metric_file_name = config.metric_file_name,\n",
    "            target_column = schema.name,\n",
    "            mlflow_uri = \"https://dagshub.com/am6499057/MLOPS-Project.mlflow\"\n",
    "        )\n",
    "\n",
    "        return model_evaluation_config\n",
    "    "
   ]
  },
  {
   "cell_type": "markdown",
   "id": "271573f9",
   "metadata": {},
   "source": [
    "## Component"
   ]
  },
  {
   "cell_type": "code",
   "execution_count": 8,
   "id": "9498cc08",
   "metadata": {},
   "outputs": [],
   "source": [
    "import os\n",
    "import pandas as pd \n",
    "from sklearn.metrics import mean_squared_error, mean_absolute_error, r2_score\n",
    "from urllib.parse import urlparse \n",
    "import mlflow\n",
    "import mlflow.sklearn \n",
    "import numpy as np\n",
    "import joblib\n",
    "\n",
    "from mlproject.utils.common import save_json \n",
    "\n",
    "\n",
    "class ModelEvaluation:\n",
    "    def __init__(self, config: ModelEvaluationConfig):\n",
    "        self.config = config\n",
    "\n",
    "    def eval_metrics(self, actual, pred):\n",
    "        rmse = np.sqrt(mean_squared_error(actual, pred))\n",
    "        mae = mean_absolute_error(actual, pred)\n",
    "        r2 = r2_score(actual, pred)\n",
    "        return rmse, mae, r2\n",
    "    \n",
    "    def log_into_mlflow(self):\n",
    "        test_data = pd.read_csv(self.config.test_data_path)\n",
    "        model = joblib.load(self.config.model_path)\n",
    "\n",
    "        x_test = test_data.drop([self.config.target_column], axis=1)\n",
    "        y_test = test_data[[self.config.target_column]]\n",
    "\n",
    "        mlflow.set_registry_uri(self.config.mlflow_uri) # setting up my tracking uri, bcuz i want to do it in the remote server.\n",
    "        tracking_url_type_store = urlparse(mlflow.get_tracking_uri()).scheme\n",
    "\n",
    "        with mlflow.start_run():\n",
    "            predicted_qualities = model.predict(x_test)\n",
    "\n",
    "            (rmse, mae, r2) = self.eval_metrics(y_test, predicted_qualities)\n",
    "\n",
    "            # save metrics as local\n",
    "\n",
    "            scores = {'rmse': rmse, 'mae': mae, 'r2': r2}\n",
    "            save_json(path= Path(self.config.metric_file_name), data = scores)\n",
    "\n",
    "            mlflow.log_params(self.config.all_params)\n",
    "\n",
    "            mlflow.log_metric('rmse', rmse)\n",
    "            mlflow.log_metric('r2', r2)\n",
    "            mlflow.log_metric('mae', mae)\n",
    "\n",
    "            if tracking_url_type_store != 'file':\n",
    "\n",
    "\n",
    "                mlflow.sklearn.log_model(model, 'model', registered_model_name='LogosticRegressionModel')\n",
    "            else:\n",
    "                mlflow.sklearn.log_model(model, 'model')\n",
    "                "
   ]
  },
  {
   "cell_type": "code",
   "execution_count": null,
   "id": "672a5f6c",
   "metadata": {},
   "outputs": [
    {
     "name": "stdout",
     "output_type": "stream",
     "text": [
      "Tracking URI: https://dagshub.com/am6499057/MLOPS-Project.mlflow\n"
     ]
    }
   ],
   "source": [
    "# just checking if mlflow is connected\n",
    "print(\"Tracking URI:\", mlflow.get_tracking_uri())\n"
   ]
  },
  {
   "cell_type": "markdown",
   "id": "bf457349",
   "metadata": {},
   "source": [
    "## Pipeline"
   ]
  },
  {
   "cell_type": "code",
   "execution_count": 10,
   "id": "a4063710",
   "metadata": {},
   "outputs": [
    {
     "name": "stdout",
     "output_type": "stream",
     "text": [
      "[2025-09-10 09:28:58,649: INFO: common: yaml file: config\\config.yaml, loaded successfully]\n",
      "[2025-09-10 09:28:58,654: INFO: common: yaml file: params.yaml, loaded successfully]\n",
      "[2025-09-10 09:28:58,657: INFO: common: yaml file: schema.yaml, loaded successfully]\n",
      "[2025-09-10 09:28:58,662: INFO: common: created directory at: artifacts]\n",
      "[2025-09-10 09:28:58,664: INFO: common: created directory at: artifacts/model_evaluation]\n",
      "[2025-09-10 09:29:00,030: INFO: common: json file saved at: artifacts\\model_evaluation\\metrics.json]\n"
     ]
    },
    {
     "name": "stderr",
     "output_type": "stream",
     "text": [
      "2025/09/10 09:29:12 WARNING mlflow.models.model: Model logged without a signature and input example. Please set `input_example` parameter when logging the model to auto infer the model signature.\n",
      "Successfully registered model 'LogosticRegressionModel'.\n",
      "2025/09/10 09:29:17 INFO mlflow.store.model_registry.abstract_store: Waiting up to 300 seconds for model version to finish creation. Model name: LogosticRegressionModel, version 1\n",
      "Created version '1' of model 'LogosticRegressionModel'.\n"
     ]
    },
    {
     "name": "stdout",
     "output_type": "stream",
     "text": [
      "🏃 View run likeable-whale-933 at: https://dagshub.com/am6499057/MLOPS-Project.mlflow/#/experiments/0/runs/50d3a3fd41794735beeef38d400ccc07\n",
      "🧪 View experiment at: https://dagshub.com/am6499057/MLOPS-Project.mlflow/#/experiments/0\n"
     ]
    }
   ],
   "source": [
    "try:\n",
    "    config = ConfigurationManager()\n",
    "    model_evaluation_config = config.get_model_evaluation_config()\n",
    "    model_evaluation_config = ModelEvaluation(config = model_evaluation_config)\n",
    "    model_evaluation_config.log_into_mlflow()\n",
    "except Exception as e:\n",
    "    raise e \n"
   ]
  },
  {
   "attachments": {
    "image.png": {
     "image/png": "[encoded data removed]"
    }
   },
   "cell_type": "markdown",
   "id": "448cb4b3",
   "metadata": {},
   "source": [
    "![image.png](attachment:image.png)"
   ]
  },
  {
   "cell_type": "markdown",
   "id": "7f8c7d30",
   "metadata": {},
   "source": [
    "run 1: max_iter at 5000\n",
    "run 2: max_iter at 2500"
   ]
  },
  {
   "cell_type": "markdown",
   "id": "0531cca7",
   "metadata": {},
   "source": []
  }
 ],
 "metadata": {
  "kernelspec": {
   "display_name": "venv",
   "language": "python",
   "name": "python3"
  },
  "language_info": {
   "codemirror_mode": {
    "name": "ipython",
    "version": 3
   },
   "file_extension": ".py",
   "mimetype": "text/x-python",
   "name": "python",
   "nbconvert_exporter": "python",
   "pygments_lexer": "ipython3",
   "version": "3.12.7"
  }
 },
 "nbformat": 4,
 "nbformat_minor": 5
}
